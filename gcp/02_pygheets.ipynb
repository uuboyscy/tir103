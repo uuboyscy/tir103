{
 "cells": [
  {
   "cell_type": "code",
   "execution_count": 1,
   "metadata": {},
   "outputs": [],
   "source": [
    "import pandas as pd\n",
    "import pygsheets\n",
    "from pygsheets.client import Client"
   ]
  },
  {
   "cell_type": "code",
   "execution_count": 2,
   "metadata": {},
   "outputs": [],
   "source": [
    "BIGQUERY_CREDENTIALS_FILE_PATH = \"bigquery-user.json\""
   ]
  },
  {
   "cell_type": "code",
   "execution_count": 3,
   "metadata": {},
   "outputs": [
    {
     "data": {
      "text/html": [
       "<div>\n",
       "<style scoped>\n",
       "    .dataframe tbody tr th:only-of-type {\n",
       "        vertical-align: middle;\n",
       "    }\n",
       "\n",
       "    .dataframe tbody tr th {\n",
       "        vertical-align: top;\n",
       "    }\n",
       "\n",
       "    .dataframe thead th {\n",
       "        text-align: right;\n",
       "    }\n",
       "</style>\n",
       "<table border=\"1\" class=\"dataframe\">\n",
       "  <thead>\n",
       "    <tr style=\"text-align: right;\">\n",
       "      <th></th>\n",
       "      <th>TransactionID</th>\n",
       "      <th>ProductID</th>\n",
       "      <th>Quantity</th>\n",
       "      <th>SaleDate</th>\n",
       "    </tr>\n",
       "  </thead>\n",
       "  <tbody>\n",
       "    <tr>\n",
       "      <th>0</th>\n",
       "      <td>103</td>\n",
       "      <td>2001</td>\n",
       "      <td>1</td>\n",
       "      <td>2024-05-07</td>\n",
       "    </tr>\n",
       "    <tr>\n",
       "      <th>1</th>\n",
       "      <td>104</td>\n",
       "      <td>2004</td>\n",
       "      <td>4</td>\n",
       "      <td>2024-05-07</td>\n",
       "    </tr>\n",
       "  </tbody>\n",
       "</table>\n",
       "</div>"
      ],
      "text/plain": [
       "  TransactionID ProductID Quantity    SaleDate\n",
       "0           103      2001        1  2024-05-07\n",
       "1           104      2004        4  2024-05-07"
      ]
     },
     "execution_count": 3,
     "metadata": {},
     "output_type": "execute_result"
    }
   ],
   "source": [
    "def get_google_sheet_client() -> Client:\n",
    "    \"\"\"Get Google Sheets client.\"\"\"\n",
    "    with open(BIGQUERY_CREDENTIALS_FILE_PATH, \"r\") as f:\n",
    "        service_account_json_str = f.read()\n",
    "    return pygsheets.authorize(\n",
    "        service_account_json=service_account_json_str,\n",
    "    )\n",
    "\n",
    "def get_gsheet_as_df(gsheet_url: str, worksheet_title: str | None = None) -> pd.DataFrame:\n",
    "    \"\"\"Return DataFrame from a specified Google Sheets worksheet.\"\"\"\n",
    "    gc = get_google_sheet_client()\n",
    "    sheet = gc.open_by_url(gsheet_url)\n",
    "    if worksheet_title:\n",
    "        return sheet.worksheet_by_title(worksheet_title).get_as_df(numerize=False)\n",
    "    return sheet.sheet1.get_as_df(numerize=False)\n",
    "\n",
    "gsheets_url = \"https://docs.google.com/spreadsheets/d/1DfZ4g_-Qid2KQUNHiF23mnI-ins94RZ-lVeIls-N-Rw\"\n",
    "\n",
    "df = get_gsheet_as_df(gsheets_url, \"demo_sheet\")\n",
    "\n",
    "df"
   ]
  },
  {
   "cell_type": "code",
   "execution_count": null,
   "metadata": {},
   "outputs": [],
   "source": []
  }
 ],
 "metadata": {
  "kernelspec": {
   "display_name": "gcp-IE2WQCWq-py3.11",
   "language": "python",
   "name": "python3"
  },
  "language_info": {
   "codemirror_mode": {
    "name": "ipython",
    "version": 3
   },
   "file_extension": ".py",
   "mimetype": "text/x-python",
   "name": "python",
   "nbconvert_exporter": "python",
   "pygments_lexer": "ipython3",
   "version": "3.11.8"
  }
 },
 "nbformat": 4,
 "nbformat_minor": 2
}
