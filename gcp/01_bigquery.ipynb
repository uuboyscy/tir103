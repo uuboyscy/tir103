{
 "cells": [
  {
   "cell_type": "code",
   "execution_count": 1,
   "metadata": {},
   "outputs": [],
   "source": [
    "import os\n",
    "\n",
    "from google.cloud import bigquery\n",
    "from google.oauth2.service_account import Credentials"
   ]
  },
  {
   "cell_type": "code",
   "execution_count": 2,
   "metadata": {},
   "outputs": [],
   "source": [
    "# Using credentials file\n",
    "BIGQUERY_CREDENTIALS_FILE_PATH = \"bigquery-user.json\"\n",
    "CREDENTIALS = Credentials.from_service_account_file(BIGQUERY_CREDENTIALS_FILE_PATH)"
   ]
  },
  {
   "cell_type": "code",
   "execution_count": 3,
   "metadata": {},
   "outputs": [
    {
     "name": "stdout",
     "output_type": "stream",
     "text": [
      "https://stackoverflow.com/questions/35159967 : 170023 views\n",
      "https://stackoverflow.com/questions/22879669 : 142581 views\n",
      "https://stackoverflow.com/questions/10604135 : 132406 views\n",
      "https://stackoverflow.com/questions/44564887 : 128781 views\n",
      "https://stackoverflow.com/questions/27060396 : 127008 views\n",
      "https://stackoverflow.com/questions/12482637 : 120766 views\n",
      "https://stackoverflow.com/questions/20673986 : 115720 views\n",
      "https://stackoverflow.com/questions/39109817 : 108368 views\n",
      "https://stackoverflow.com/questions/11057219 : 105175 views\n",
      "https://stackoverflow.com/questions/43195143 : 101878 views\n"
     ]
    }
   ],
   "source": [
    "def query_stackoverflow():\n",
    "    client = bigquery.Client(\n",
    "        credentials=CREDENTIALS,\n",
    "    )\n",
    "    query_job = client.query(\n",
    "        \"\"\"\n",
    "        SELECT\n",
    "          CONCAT(\n",
    "            'https://stackoverflow.com/questions/',\n",
    "            CAST(id as STRING)) as url,\n",
    "          view_count\n",
    "        FROM `bigquery-public-data.stackoverflow.posts_questions`\n",
    "        WHERE tags like '%google-bigquery%'\n",
    "        ORDER BY view_count DESC\n",
    "        LIMIT 10\"\"\"\n",
    "    )\n",
    "\n",
    "    results = query_job.result()  # Waits for job to complete.\n",
    "\n",
    "    for row in results:\n",
    "        print(\"{} : {} views\".format(row.url, row.view_count))\n",
    "\n",
    "query_stackoverflow()"
   ]
  },
  {
   "cell_type": "code",
   "execution_count": null,
   "metadata": {},
   "outputs": [],
   "source": []
  }
 ],
 "metadata": {
  "kernelspec": {
   "display_name": "gcp-IE2WQCWq-py3.11",
   "language": "python",
   "name": "python3"
  },
  "language_info": {
   "codemirror_mode": {
    "name": "ipython",
    "version": 3
   },
   "file_extension": ".py",
   "mimetype": "text/x-python",
   "name": "python",
   "nbconvert_exporter": "python",
   "pygments_lexer": "ipython3",
   "version": "3.11.8"
  }
 },
 "nbformat": 4,
 "nbformat_minor": 2
}
