{
 "cells": [
  {
   "cell_type": "code",
   "execution_count": 1,
   "metadata": {},
   "outputs": [],
   "source": [
    "import pandas as pd"
   ]
  },
  {
   "cell_type": "code",
   "execution_count": 2,
   "metadata": {},
   "outputs": [
    {
     "data": {
      "text/html": [
       "<div>\n",
       "<style scoped>\n",
       "    .dataframe tbody tr th:only-of-type {\n",
       "        vertical-align: middle;\n",
       "    }\n",
       "\n",
       "    .dataframe tbody tr th {\n",
       "        vertical-align: top;\n",
       "    }\n",
       "\n",
       "    .dataframe thead th {\n",
       "        text-align: right;\n",
       "    }\n",
       "</style>\n",
       "<table border=\"1\" class=\"dataframe\">\n",
       "  <thead>\n",
       "    <tr style=\"text-align: right;\">\n",
       "      <th></th>\n",
       "      <th>Name</th>\n",
       "      <th>Experience</th>\n",
       "      <th>Age</th>\n",
       "      <th>Department</th>\n",
       "      <th>DepartmentID</th>\n",
       "      <th>CreatedDatetime</th>\n",
       "      <th>CreatedDatetimeTZ</th>\n",
       "      <th>Remote</th>\n",
       "      <th>OnBoard</th>\n",
       "      <th>Intern</th>\n",
       "    </tr>\n",
       "  </thead>\n",
       "  <tbody>\n",
       "    <tr>\n",
       "      <th>0</th>\n",
       "      <td>John Doe</td>\n",
       "      <td>10.0</td>\n",
       "      <td>35</td>\n",
       "      <td>Engineering</td>\n",
       "      <td>1</td>\n",
       "      <td>2023-04-05T14:30</td>\n",
       "      <td>2023-04-05T14:30+08:00</td>\n",
       "      <td>True</td>\n",
       "      <td>V</td>\n",
       "      <td>0</td>\n",
       "    </tr>\n",
       "    <tr>\n",
       "      <th>1</th>\n",
       "      <td>Jane Smith</td>\n",
       "      <td>NaN</td>\n",
       "      <td>29</td>\n",
       "      <td>Marketing</td>\n",
       "      <td>2</td>\n",
       "      <td>2023-02-28T08:15</td>\n",
       "      <td>2023-02-28T08:15+08:00</td>\n",
       "      <td>False</td>\n",
       "      <td>X</td>\n",
       "      <td>0</td>\n",
       "    </tr>\n",
       "    <tr>\n",
       "      <th>2</th>\n",
       "      <td>Emily Davis</td>\n",
       "      <td>2.0</td>\n",
       "      <td>27</td>\n",
       "      <td>Product</td>\n",
       "      <td>3</td>\n",
       "      <td>2023-03-15T12:45</td>\n",
       "      <td>2023-03-15T12:45+08:00</td>\n",
       "      <td>True</td>\n",
       "      <td>V</td>\n",
       "      <td>0</td>\n",
       "    </tr>\n",
       "    <tr>\n",
       "      <th>3</th>\n",
       "      <td>Mark Evans</td>\n",
       "      <td>5.0</td>\n",
       "      <td>30</td>\n",
       "      <td>Sales</td>\n",
       "      <td>4</td>\n",
       "      <td>2023-01-13T09:00</td>\n",
       "      <td>2023-01-13T09:00+08:00</td>\n",
       "      <td>False</td>\n",
       "      <td>V</td>\n",
       "      <td>1</td>\n",
       "    </tr>\n",
       "  </tbody>\n",
       "</table>\n",
       "</div>"
      ],
      "text/plain": [
       "          Name  Experience  Age   Department  DepartmentID   CreatedDatetime  \\\n",
       "0     John Doe        10.0   35  Engineering             1  2023-04-05T14:30   \n",
       "1   Jane Smith         NaN   29    Marketing             2  2023-02-28T08:15   \n",
       "2  Emily Davis         2.0   27      Product             3  2023-03-15T12:45   \n",
       "3   Mark Evans         5.0   30        Sales             4  2023-01-13T09:00   \n",
       "\n",
       "        CreatedDatetimeTZ  Remote OnBoard  Intern  \n",
       "0  2023-04-05T14:30+08:00    True       V       0  \n",
       "1  2023-02-28T08:15+08:00   False       X       0  \n",
       "2  2023-03-15T12:45+08:00    True       V       0  \n",
       "3  2023-01-13T09:00+08:00   False       V       1  "
      ]
     },
     "execution_count": 2,
     "metadata": {},
     "output_type": "execute_result"
    }
   ],
   "source": [
    "file_path = \"/workspaces/tir103/data-pipeline/resource/dtype_sample.csv\"\n",
    "df = pd.read_csv(file_path)\n",
    "df"
   ]
  },
  {
   "cell_type": "code",
   "execution_count": 3,
   "metadata": {},
   "outputs": [
    {
     "data": {
      "text/plain": [
       "Name                  object\n",
       "Experience           float64\n",
       "Age                    int64\n",
       "Department            object\n",
       "DepartmentID           int64\n",
       "CreatedDatetime       object\n",
       "CreatedDatetimeTZ     object\n",
       "Remote                  bool\n",
       "OnBoard               object\n",
       "Intern                 int64\n",
       "dtype: object"
      ]
     },
     "execution_count": 3,
     "metadata": {},
     "output_type": "execute_result"
    }
   ],
   "source": [
    "df.dtypes"
   ]
  },
  {
   "cell_type": "code",
   "execution_count": 4,
   "metadata": {},
   "outputs": [
    {
     "data": {
      "text/html": [
       "<div>\n",
       "<style scoped>\n",
       "    .dataframe tbody tr th:only-of-type {\n",
       "        vertical-align: middle;\n",
       "    }\n",
       "\n",
       "    .dataframe tbody tr th {\n",
       "        vertical-align: top;\n",
       "    }\n",
       "\n",
       "    .dataframe thead th {\n",
       "        text-align: right;\n",
       "    }\n",
       "</style>\n",
       "<table border=\"1\" class=\"dataframe\">\n",
       "  <thead>\n",
       "    <tr style=\"text-align: right;\">\n",
       "      <th></th>\n",
       "      <th>Name</th>\n",
       "      <th>Experience</th>\n",
       "      <th>Age</th>\n",
       "      <th>Department</th>\n",
       "      <th>DepartmentID</th>\n",
       "      <th>CreatedDatetime</th>\n",
       "      <th>CreatedDatetimeTZ</th>\n",
       "      <th>Remote</th>\n",
       "      <th>OnBoard</th>\n",
       "      <th>Intern</th>\n",
       "    </tr>\n",
       "  </thead>\n",
       "  <tbody>\n",
       "    <tr>\n",
       "      <th>0</th>\n",
       "      <td>John Doe</td>\n",
       "      <td>10.0</td>\n",
       "      <td>35</td>\n",
       "      <td>Engineering</td>\n",
       "      <td>001</td>\n",
       "      <td>2023-04-05T14:30</td>\n",
       "      <td>2023-04-05T14:30+08:00</td>\n",
       "      <td>True</td>\n",
       "      <td>V</td>\n",
       "      <td>0</td>\n",
       "    </tr>\n",
       "    <tr>\n",
       "      <th>1</th>\n",
       "      <td>Jane Smith</td>\n",
       "      <td>NaN</td>\n",
       "      <td>29</td>\n",
       "      <td>Marketing</td>\n",
       "      <td>002</td>\n",
       "      <td>2023-02-28T08:15</td>\n",
       "      <td>2023-02-28T08:15+08:00</td>\n",
       "      <td>False</td>\n",
       "      <td>X</td>\n",
       "      <td>0</td>\n",
       "    </tr>\n",
       "    <tr>\n",
       "      <th>2</th>\n",
       "      <td>Emily Davis</td>\n",
       "      <td>2.0</td>\n",
       "      <td>27</td>\n",
       "      <td>Product</td>\n",
       "      <td>003</td>\n",
       "      <td>2023-03-15T12:45</td>\n",
       "      <td>2023-03-15T12:45+08:00</td>\n",
       "      <td>True</td>\n",
       "      <td>V</td>\n",
       "      <td>0</td>\n",
       "    </tr>\n",
       "    <tr>\n",
       "      <th>3</th>\n",
       "      <td>Mark Evans</td>\n",
       "      <td>5.0</td>\n",
       "      <td>30</td>\n",
       "      <td>Sales</td>\n",
       "      <td>004</td>\n",
       "      <td>2023-01-13T09:00</td>\n",
       "      <td>2023-01-13T09:00+08:00</td>\n",
       "      <td>False</td>\n",
       "      <td>V</td>\n",
       "      <td>1</td>\n",
       "    </tr>\n",
       "  </tbody>\n",
       "</table>\n",
       "</div>"
      ],
      "text/plain": [
       "          Name  Experience  Age   Department DepartmentID   CreatedDatetime  \\\n",
       "0     John Doe        10.0   35  Engineering          001  2023-04-05T14:30   \n",
       "1   Jane Smith         NaN   29    Marketing          002  2023-02-28T08:15   \n",
       "2  Emily Davis         2.0   27      Product          003  2023-03-15T12:45   \n",
       "3   Mark Evans         5.0   30        Sales          004  2023-01-13T09:00   \n",
       "\n",
       "        CreatedDatetimeTZ  Remote OnBoard  Intern  \n",
       "0  2023-04-05T14:30+08:00    True       V       0  \n",
       "1  2023-02-28T08:15+08:00   False       X       0  \n",
       "2  2023-03-15T12:45+08:00    True       V       0  \n",
       "3  2023-01-13T09:00+08:00   False       V       1  "
      ]
     },
     "execution_count": 4,
     "metadata": {},
     "output_type": "execute_result"
    }
   ],
   "source": [
    "columns_type = {\n",
    "    \"DepartmentID\": \"str\",\n",
    "}\n",
    "\n",
    "df = pd.read_csv(file_path, dtype=columns_type)\n",
    "df"
   ]
  },
  {
   "cell_type": "code",
   "execution_count": 5,
   "metadata": {},
   "outputs": [
    {
     "data": {
      "text/plain": [
       "Name                  object\n",
       "Experience           float64\n",
       "Age                    int64\n",
       "Department            object\n",
       "DepartmentID          object\n",
       "CreatedDatetime       object\n",
       "CreatedDatetimeTZ     object\n",
       "Remote                  bool\n",
       "OnBoard               object\n",
       "Intern                 int64\n",
       "dtype: object"
      ]
     },
     "execution_count": 5,
     "metadata": {},
     "output_type": "execute_result"
    }
   ],
   "source": [
    "df.dtypes"
   ]
  },
  {
   "cell_type": "code",
   "execution_count": 10,
   "metadata": {},
   "outputs": [
    {
     "data": {
      "text/html": [
       "<div>\n",
       "<style scoped>\n",
       "    .dataframe tbody tr th:only-of-type {\n",
       "        vertical-align: middle;\n",
       "    }\n",
       "\n",
       "    .dataframe tbody tr th {\n",
       "        vertical-align: top;\n",
       "    }\n",
       "\n",
       "    .dataframe thead th {\n",
       "        text-align: right;\n",
       "    }\n",
       "</style>\n",
       "<table border=\"1\" class=\"dataframe\">\n",
       "  <thead>\n",
       "    <tr style=\"text-align: right;\">\n",
       "      <th></th>\n",
       "      <th>Name</th>\n",
       "      <th>Experience</th>\n",
       "      <th>Age</th>\n",
       "      <th>Department</th>\n",
       "      <th>DepartmentID</th>\n",
       "      <th>CreatedDatetime</th>\n",
       "      <th>CreatedDatetimeTZ</th>\n",
       "      <th>Remote</th>\n",
       "      <th>OnBoard</th>\n",
       "      <th>Intern</th>\n",
       "    </tr>\n",
       "  </thead>\n",
       "  <tbody>\n",
       "    <tr>\n",
       "      <th>0</th>\n",
       "      <td>John Doe</td>\n",
       "      <td>10.0</td>\n",
       "      <td>35</td>\n",
       "      <td>Engineering</td>\n",
       "      <td>001</td>\n",
       "      <td>2023-04-05T14:30</td>\n",
       "      <td>2023-04-05T14:30+08:00</td>\n",
       "      <td>True</td>\n",
       "      <td>V</td>\n",
       "      <td>False</td>\n",
       "    </tr>\n",
       "    <tr>\n",
       "      <th>1</th>\n",
       "      <td>Jane Smith</td>\n",
       "      <td>NaN</td>\n",
       "      <td>29</td>\n",
       "      <td>Marketing</td>\n",
       "      <td>002</td>\n",
       "      <td>2023-02-28T08:15</td>\n",
       "      <td>2023-02-28T08:15+08:00</td>\n",
       "      <td>False</td>\n",
       "      <td>X</td>\n",
       "      <td>False</td>\n",
       "    </tr>\n",
       "    <tr>\n",
       "      <th>2</th>\n",
       "      <td>Emily Davis</td>\n",
       "      <td>2.0</td>\n",
       "      <td>27</td>\n",
       "      <td>Product</td>\n",
       "      <td>003</td>\n",
       "      <td>2023-03-15T12:45</td>\n",
       "      <td>2023-03-15T12:45+08:00</td>\n",
       "      <td>True</td>\n",
       "      <td>V</td>\n",
       "      <td>False</td>\n",
       "    </tr>\n",
       "    <tr>\n",
       "      <th>3</th>\n",
       "      <td>Mark Evans</td>\n",
       "      <td>5.0</td>\n",
       "      <td>30</td>\n",
       "      <td>Sales</td>\n",
       "      <td>004</td>\n",
       "      <td>2023-01-13T09:00</td>\n",
       "      <td>2023-01-13T09:00+08:00</td>\n",
       "      <td>False</td>\n",
       "      <td>V</td>\n",
       "      <td>True</td>\n",
       "    </tr>\n",
       "  </tbody>\n",
       "</table>\n",
       "</div>"
      ],
      "text/plain": [
       "          Name  Experience  Age   Department DepartmentID   CreatedDatetime  \\\n",
       "0     John Doe        10.0   35  Engineering          001  2023-04-05T14:30   \n",
       "1   Jane Smith         NaN   29    Marketing          002  2023-02-28T08:15   \n",
       "2  Emily Davis         2.0   27      Product          003  2023-03-15T12:45   \n",
       "3   Mark Evans         5.0   30        Sales          004  2023-01-13T09:00   \n",
       "\n",
       "        CreatedDatetimeTZ  Remote OnBoard  Intern  \n",
       "0  2023-04-05T14:30+08:00    True       V   False  \n",
       "1  2023-02-28T08:15+08:00   False       X   False  \n",
       "2  2023-03-15T12:45+08:00    True       V   False  \n",
       "3  2023-01-13T09:00+08:00   False       V    True  "
      ]
     },
     "execution_count": 10,
     "metadata": {},
     "output_type": "execute_result"
    }
   ],
   "source": [
    "columns_type = {\n",
    "    \"DepartmentID\": \"str\",\n",
    "    \"Remote\": bool,\n",
    "    \"OnBoard\": str,\n",
    "    \"Intern\": bool,\n",
    "}\n",
    "\n",
    "df = pd.read_csv(file_path, dtype=columns_type)\n",
    "df"
   ]
  },
  {
   "cell_type": "code",
   "execution_count": 11,
   "metadata": {},
   "outputs": [
    {
     "data": {
      "text/plain": [
       "0    V\n",
       "1    X\n",
       "2    V\n",
       "3    V\n",
       "Name: OnBoard, dtype: object"
      ]
     },
     "execution_count": 11,
     "metadata": {},
     "output_type": "execute_result"
    }
   ],
   "source": [
    "df[\"OnBoard\"].str.strip()"
   ]
  },
  {
   "cell_type": "code",
   "execution_count": 14,
   "metadata": {},
   "outputs": [
    {
     "data": {
      "text/plain": [
       "0     True\n",
       "1    False\n",
       "2     True\n",
       "3     True\n",
       "Name: OnBoard, dtype: object"
      ]
     },
     "execution_count": 14,
     "metadata": {},
     "output_type": "execute_result"
    }
   ],
   "source": [
    "df[\"OnBoard\"].str.replace(\"V\", \"True\").str.replace(\"X\", \"False\")"
   ]
  },
  {
   "cell_type": "code",
   "execution_count": 17,
   "metadata": {},
   "outputs": [
    {
     "data": {
      "text/plain": [
       "0    True\n",
       "1    True\n",
       "2    True\n",
       "3    True\n",
       "Name: OnBoard, dtype: bool"
      ]
     },
     "execution_count": 17,
     "metadata": {},
     "output_type": "execute_result"
    }
   ],
   "source": [
    "df[\"OnBoard\"].str.replace(\"V\", \"True\").str.replace(\"X\", \"False\").astype(bool)"
   ]
  },
  {
   "cell_type": "code",
   "execution_count": 18,
   "metadata": {},
   "outputs": [
    {
     "name": "stdout",
     "output_type": "stream",
     "text": [
      "123\n"
     ]
    }
   ],
   "source": [
    "if \"False\":\n",
    "    print(123)"
   ]
  },
  {
   "cell_type": "code",
   "execution_count": 19,
   "metadata": {},
   "outputs": [],
   "source": [
    "if \"\":\n",
    "    print(123)"
   ]
  },
  {
   "cell_type": "code",
   "execution_count": 21,
   "metadata": {},
   "outputs": [
    {
     "data": {
      "text/plain": [
       "0     True\n",
       "1    False\n",
       "2     True\n",
       "3     True\n",
       "Name: OnBoard, dtype: bool"
      ]
     },
     "execution_count": 21,
     "metadata": {},
     "output_type": "execute_result"
    }
   ],
   "source": [
    "df[\"OnBoard\"].str.replace(\"V\", \"1\").str.replace(\"X\", \"0\").astype(int).astype(bool)"
   ]
  },
  {
   "cell_type": "code",
   "execution_count": 22,
   "metadata": {},
   "outputs": [
    {
     "data": {
      "text/plain": [
       "array([ True, False,  True,  True])"
      ]
     },
     "execution_count": 22,
     "metadata": {},
     "output_type": "execute_result"
    }
   ],
   "source": [
    "import numpy as np\n",
    "\n",
    "np.where(\n",
    "    df[\"OnBoard\"] == \"V\",\n",
    "    True,\n",
    "    False,\n",
    ")"
   ]
  },
  {
   "cell_type": "code",
   "execution_count": 23,
   "metadata": {},
   "outputs": [],
   "source": [
    "df[\"OnBoard\"] = np.where(\n",
    "    df[\"OnBoard\"] == \"V\",\n",
    "    True,\n",
    "    False,\n",
    ")"
   ]
  },
  {
   "cell_type": "code",
   "execution_count": 24,
   "metadata": {},
   "outputs": [
    {
     "data": {
      "text/html": [
       "<div>\n",
       "<style scoped>\n",
       "    .dataframe tbody tr th:only-of-type {\n",
       "        vertical-align: middle;\n",
       "    }\n",
       "\n",
       "    .dataframe tbody tr th {\n",
       "        vertical-align: top;\n",
       "    }\n",
       "\n",
       "    .dataframe thead th {\n",
       "        text-align: right;\n",
       "    }\n",
       "</style>\n",
       "<table border=\"1\" class=\"dataframe\">\n",
       "  <thead>\n",
       "    <tr style=\"text-align: right;\">\n",
       "      <th></th>\n",
       "      <th>Name</th>\n",
       "      <th>Experience</th>\n",
       "      <th>Age</th>\n",
       "      <th>Department</th>\n",
       "      <th>DepartmentID</th>\n",
       "      <th>CreatedDatetime</th>\n",
       "      <th>CreatedDatetimeTZ</th>\n",
       "      <th>Remote</th>\n",
       "      <th>OnBoard</th>\n",
       "      <th>Intern</th>\n",
       "    </tr>\n",
       "  </thead>\n",
       "  <tbody>\n",
       "    <tr>\n",
       "      <th>0</th>\n",
       "      <td>John Doe</td>\n",
       "      <td>10.0</td>\n",
       "      <td>35</td>\n",
       "      <td>Engineering</td>\n",
       "      <td>001</td>\n",
       "      <td>2023-04-05T14:30</td>\n",
       "      <td>2023-04-05T14:30+08:00</td>\n",
       "      <td>True</td>\n",
       "      <td>True</td>\n",
       "      <td>False</td>\n",
       "    </tr>\n",
       "    <tr>\n",
       "      <th>1</th>\n",
       "      <td>Jane Smith</td>\n",
       "      <td>NaN</td>\n",
       "      <td>29</td>\n",
       "      <td>Marketing</td>\n",
       "      <td>002</td>\n",
       "      <td>2023-02-28T08:15</td>\n",
       "      <td>2023-02-28T08:15+08:00</td>\n",
       "      <td>False</td>\n",
       "      <td>False</td>\n",
       "      <td>False</td>\n",
       "    </tr>\n",
       "    <tr>\n",
       "      <th>2</th>\n",
       "      <td>Emily Davis</td>\n",
       "      <td>2.0</td>\n",
       "      <td>27</td>\n",
       "      <td>Product</td>\n",
       "      <td>003</td>\n",
       "      <td>2023-03-15T12:45</td>\n",
       "      <td>2023-03-15T12:45+08:00</td>\n",
       "      <td>True</td>\n",
       "      <td>True</td>\n",
       "      <td>False</td>\n",
       "    </tr>\n",
       "    <tr>\n",
       "      <th>3</th>\n",
       "      <td>Mark Evans</td>\n",
       "      <td>5.0</td>\n",
       "      <td>30</td>\n",
       "      <td>Sales</td>\n",
       "      <td>004</td>\n",
       "      <td>2023-01-13T09:00</td>\n",
       "      <td>2023-01-13T09:00+08:00</td>\n",
       "      <td>False</td>\n",
       "      <td>True</td>\n",
       "      <td>True</td>\n",
       "    </tr>\n",
       "  </tbody>\n",
       "</table>\n",
       "</div>"
      ],
      "text/plain": [
       "          Name  Experience  Age   Department DepartmentID   CreatedDatetime  \\\n",
       "0     John Doe        10.0   35  Engineering          001  2023-04-05T14:30   \n",
       "1   Jane Smith         NaN   29    Marketing          002  2023-02-28T08:15   \n",
       "2  Emily Davis         2.0   27      Product          003  2023-03-15T12:45   \n",
       "3   Mark Evans         5.0   30        Sales          004  2023-01-13T09:00   \n",
       "\n",
       "        CreatedDatetimeTZ  Remote  OnBoard  Intern  \n",
       "0  2023-04-05T14:30+08:00    True     True   False  \n",
       "1  2023-02-28T08:15+08:00   False    False   False  \n",
       "2  2023-03-15T12:45+08:00    True     True   False  \n",
       "3  2023-01-13T09:00+08:00   False     True    True  "
      ]
     },
     "execution_count": 24,
     "metadata": {},
     "output_type": "execute_result"
    }
   ],
   "source": [
    "df"
   ]
  },
  {
   "cell_type": "code",
   "execution_count": 26,
   "metadata": {},
   "outputs": [
    {
     "data": {
      "text/html": [
       "<div>\n",
       "<style scoped>\n",
       "    .dataframe tbody tr th:only-of-type {\n",
       "        vertical-align: middle;\n",
       "    }\n",
       "\n",
       "    .dataframe tbody tr th {\n",
       "        vertical-align: top;\n",
       "    }\n",
       "\n",
       "    .dataframe thead th {\n",
       "        text-align: right;\n",
       "    }\n",
       "</style>\n",
       "<table border=\"1\" class=\"dataframe\">\n",
       "  <thead>\n",
       "    <tr style=\"text-align: right;\">\n",
       "      <th></th>\n",
       "      <th>Name</th>\n",
       "      <th>Experience</th>\n",
       "      <th>Age</th>\n",
       "      <th>Department</th>\n",
       "      <th>DepartmentID</th>\n",
       "      <th>CreatedDatetime</th>\n",
       "      <th>CreatedDatetimeTZ</th>\n",
       "      <th>Remote</th>\n",
       "      <th>OnBoard</th>\n",
       "      <th>Intern</th>\n",
       "    </tr>\n",
       "  </thead>\n",
       "  <tbody>\n",
       "    <tr>\n",
       "      <th>0</th>\n",
       "      <td>John Doe</td>\n",
       "      <td>10.0</td>\n",
       "      <td>35</td>\n",
       "      <td>Engineering</td>\n",
       "      <td>001</td>\n",
       "      <td>2023-04-05T14:30</td>\n",
       "      <td>2023-04-05T14:30+08:00</td>\n",
       "      <td>True</td>\n",
       "      <td>V</td>\n",
       "      <td>False</td>\n",
       "    </tr>\n",
       "    <tr>\n",
       "      <th>1</th>\n",
       "      <td>Jane Smith</td>\n",
       "      <td>NaN</td>\n",
       "      <td>29</td>\n",
       "      <td>Marketing</td>\n",
       "      <td>002</td>\n",
       "      <td>2023-02-28T08:15</td>\n",
       "      <td>2023-02-28T08:15+08:00</td>\n",
       "      <td>False</td>\n",
       "      <td>X</td>\n",
       "      <td>False</td>\n",
       "    </tr>\n",
       "    <tr>\n",
       "      <th>2</th>\n",
       "      <td>Emily Davis</td>\n",
       "      <td>2.0</td>\n",
       "      <td>27</td>\n",
       "      <td>Product</td>\n",
       "      <td>003</td>\n",
       "      <td>2023-03-15T12:45</td>\n",
       "      <td>2023-03-15T12:45+08:00</td>\n",
       "      <td>True</td>\n",
       "      <td>V</td>\n",
       "      <td>False</td>\n",
       "    </tr>\n",
       "    <tr>\n",
       "      <th>3</th>\n",
       "      <td>Mark Evans</td>\n",
       "      <td>5.0</td>\n",
       "      <td>30</td>\n",
       "      <td>Sales</td>\n",
       "      <td>004</td>\n",
       "      <td>2023-01-13T09:00</td>\n",
       "      <td>2023-01-13T09:00+08:00</td>\n",
       "      <td>False</td>\n",
       "      <td>V</td>\n",
       "      <td>True</td>\n",
       "    </tr>\n",
       "  </tbody>\n",
       "</table>\n",
       "</div>"
      ],
      "text/plain": [
       "          Name  Experience  Age   Department DepartmentID   CreatedDatetime  \\\n",
       "0     John Doe        10.0   35  Engineering          001  2023-04-05T14:30   \n",
       "1   Jane Smith         NaN   29    Marketing          002  2023-02-28T08:15   \n",
       "2  Emily Davis         2.0   27      Product          003  2023-03-15T12:45   \n",
       "3   Mark Evans         5.0   30        Sales          004  2023-01-13T09:00   \n",
       "\n",
       "        CreatedDatetimeTZ  Remote OnBoard  Intern  \n",
       "0  2023-04-05T14:30+08:00    True       V   False  \n",
       "1  2023-02-28T08:15+08:00   False       X   False  \n",
       "2  2023-03-15T12:45+08:00    True       V   False  \n",
       "3  2023-01-13T09:00+08:00   False       V    True  "
      ]
     },
     "execution_count": 26,
     "metadata": {},
     "output_type": "execute_result"
    }
   ],
   "source": [
    "columns_type = {\n",
    "    \"DepartmentID\": \"str\",\n",
    "    \"Remote\": bool,\n",
    "    \"OnBoard\": str,\n",
    "    \"Intern\": bool,\n",
    "    # \"CreatedDatetime\": \"datetime64[ns]\",\n",
    "    \"CreatedDatetime\": str,\n",
    "}\n",
    "\n",
    "df = pd.read_csv(file_path, dtype=columns_type)\n",
    "df"
   ]
  },
  {
   "cell_type": "code",
   "execution_count": 27,
   "metadata": {},
   "outputs": [
    {
     "data": {
      "text/plain": [
       "0   2023-04-05 14:30:00\n",
       "1   2023-02-28 08:15:00\n",
       "2   2023-03-15 12:45:00\n",
       "3   2023-01-13 09:00:00\n",
       "Name: CreatedDatetime, dtype: datetime64[ns]"
      ]
     },
     "execution_count": 27,
     "metadata": {},
     "output_type": "execute_result"
    }
   ],
   "source": [
    "df[\"CreatedDatetime\"].apply(pd.to_datetime)"
   ]
  },
  {
   "cell_type": "code",
   "execution_count": 28,
   "metadata": {},
   "outputs": [
    {
     "data": {
      "text/plain": [
       "0   2023-04-05 14:30:00\n",
       "1   2023-02-28 08:15:00\n",
       "2   2023-03-15 12:45:00\n",
       "3   2023-01-13 09:00:00\n",
       "Name: CreatedDatetime, dtype: datetime64[ns]"
      ]
     },
     "execution_count": 28,
     "metadata": {},
     "output_type": "execute_result"
    }
   ],
   "source": [
    "pd.to_datetime(df[\"CreatedDatetime\"])"
   ]
  },
  {
   "cell_type": "code",
   "execution_count": 29,
   "metadata": {},
   "outputs": [
    {
     "data": {
      "text/plain": [
       "0   2023-04-05 14:30:00+08:00\n",
       "1   2023-02-28 08:15:00+08:00\n",
       "2   2023-03-15 12:45:00+08:00\n",
       "3   2023-01-13 09:00:00+08:00\n",
       "Name: CreatedDatetimeTZ, dtype: datetime64[ns, UTC+08:00]"
      ]
     },
     "execution_count": 29,
     "metadata": {},
     "output_type": "execute_result"
    }
   ],
   "source": [
    "pd.to_datetime(df[\"CreatedDatetimeTZ\"])"
   ]
  },
  {
   "cell_type": "code",
   "execution_count": null,
   "metadata": {},
   "outputs": [],
   "source": []
  }
 ],
 "metadata": {
  "kernelspec": {
   "display_name": "Python 3",
   "language": "python",
   "name": "python3"
  },
  "language_info": {
   "codemirror_mode": {
    "name": "ipython",
    "version": 3
   },
   "file_extension": ".py",
   "mimetype": "text/x-python",
   "name": "python",
   "nbconvert_exporter": "python",
   "pygments_lexer": "ipython3",
   "version": "3.12.6"
  }
 },
 "nbformat": 4,
 "nbformat_minor": 2
}
