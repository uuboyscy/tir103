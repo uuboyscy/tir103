{
 "cells": [
  {
   "cell_type": "code",
   "execution_count": 1,
   "metadata": {},
   "outputs": [],
   "source": [
    "import pymysql"
   ]
  },
  {
   "cell_type": "code",
   "execution_count": 8,
   "metadata": {},
   "outputs": [
    {
     "name": "stdout",
     "output_type": "stream",
     "text": [
      "Successfully connected!\n"
     ]
    }
   ],
   "source": [
    "# 設定資料庫連線資訊\n",
    "host = \"host.docker.internal\"\n",
    "port = 3306\n",
    "user = \"root\"\n",
    "passwd = \"HOWdoyouturnthison#123\"\n",
    "db = \"TESTDB\"\n",
    "charset = \"utf8mb4\"\n",
    "\n",
    "# 建立連線\n",
    "conn = pymysql.connect(host=host, port=port, user=user, passwd=passwd, db=db, charset=charset)\n",
    "print(\"Successfully connected!\")"
   ]
  },
  {
   "cell_type": "code",
   "execution_count": 9,
   "metadata": {},
   "outputs": [],
   "source": [
    "config = {\n",
    "    \"host\": \"host.docker.internal\",\n",
    "    \"port\": 3306,\n",
    "    \"user\": \"root\",\n",
    "    \"passwd\": \"HOWdoyouturnthison#123\",\n",
    "    \"db\": \"TESTDB\",\n",
    "    \"charset\": \"utf8mb4\",\n",
    "}\n",
    "\n",
    "conn = pymysql.connect(**config)"
   ]
  },
  {
   "cell_type": "code",
   "execution_count": 13,
   "metadata": {},
   "outputs": [
    {
     "name": "stdout",
     "output_type": "stream",
     "text": [
      "1 2\n",
      "3\n",
      "4\n",
      "5\n",
      "{'kkk': 123, 'bbb': 333}\n"
     ]
    }
   ],
   "source": [
    "def test_fun(a, b, *args, **args_dist):\n",
    "    print(a, b)\n",
    "    for i in args:\n",
    "        print(i)\n",
    "\n",
    "    print(args_dist)\n",
    "\n",
    "test_fun(1,2,3,4,5,kkk=123, bbb=333)"
   ]
  },
  {
   "cell_type": "code",
   "execution_count": 14,
   "metadata": {},
   "outputs": [],
   "source": [
    "cursor = conn.cursor()"
   ]
  },
  {
   "cell_type": "code",
   "execution_count": 15,
   "metadata": {},
   "outputs": [
    {
     "data": {
      "text/plain": [
       "1"
      ]
     },
     "execution_count": 15,
     "metadata": {},
     "output_type": "execute_result"
    }
   ],
   "source": [
    "sql = \"\"\"\n",
    "INSERT INTO Staff (ID, Name, DeptId, Age, Gender, Salary, recordDt)\n",
    "VALUES ('001', 'Mike', '002', 45, 'M', 60000, '2020-04-24 14:59:57');\n",
    "\"\"\"\n",
    "\n",
    "# 將指令放進 cursor 物件，並執行\n",
    "cursor.execute(sql)"
   ]
  },
  {
   "cell_type": "code",
   "execution_count": 16,
   "metadata": {},
   "outputs": [],
   "source": [
    "conn.commit()"
   ]
  },
  {
   "cell_type": "code",
   "execution_count": 17,
   "metadata": {},
   "outputs": [
    {
     "data": {
      "text/plain": [
       "1"
      ]
     },
     "execution_count": 17,
     "metadata": {},
     "output_type": "execute_result"
    }
   ],
   "source": [
    "sql = \"\"\"select * from staff\"\"\"\n",
    "cursor.execute(sql)"
   ]
  },
  {
   "cell_type": "code",
   "execution_count": 18,
   "metadata": {},
   "outputs": [
    {
     "data": {
      "text/plain": [
       "(('001',\n",
       "  'Mike',\n",
       "  '002',\n",
       "  45,\n",
       "  'M',\n",
       "  60000,\n",
       "  datetime.datetime(2020, 4, 24, 14, 59, 57)),)"
      ]
     },
     "execution_count": 18,
     "metadata": {},
     "output_type": "execute_result"
    }
   ],
   "source": [
    "cursor.fetchall()"
   ]
  },
  {
   "cell_type": "code",
   "execution_count": 19,
   "metadata": {},
   "outputs": [
    {
     "data": {
      "text/plain": [
       "()"
      ]
     },
     "execution_count": 19,
     "metadata": {},
     "output_type": "execute_result"
    }
   ],
   "source": [
    "cursor.fetchall()"
   ]
  },
  {
   "cell_type": "code",
   "execution_count": 20,
   "metadata": {},
   "outputs": [],
   "source": [
    "sql = \"\"\"select * from staff\"\"\"\n",
    "cursor.execute(sql)\n",
    "data = cursor.fetchall()"
   ]
  },
  {
   "cell_type": "code",
   "execution_count": 21,
   "metadata": {},
   "outputs": [
    {
     "data": {
      "text/plain": [
       "(('001',\n",
       "  'Mike',\n",
       "  '002',\n",
       "  45,\n",
       "  'M',\n",
       "  60000,\n",
       "  datetime.datetime(2020, 4, 24, 14, 59, 57)),)"
      ]
     },
     "execution_count": 21,
     "metadata": {},
     "output_type": "execute_result"
    }
   ],
   "source": [
    "data"
   ]
  },
  {
   "cell_type": "code",
   "execution_count": 23,
   "metadata": {},
   "outputs": [
    {
     "data": {
      "text/plain": [
       "8"
      ]
     },
     "execution_count": 23,
     "metadata": {},
     "output_type": "execute_result"
    }
   ],
   "source": [
    "sql_insert = \"\"\"\n",
    "INSERT INTO Staff (ID, Name, DeptId, Age, Gender, Salary, recordDt)\n",
    "VALUES (%s, %s, %s, %s, %s, %s, %s);\n",
    "\"\"\"\n",
    "\n",
    "values = [\n",
    "    (\"009\", \"Mike\", \"002\", \"45\", \"M\", \"60000\", \"2020-10-13 21:41:49\"),\n",
    "    (\"002\", \"Judy\", \"002\", \"30\", \"F\", \"48000\", \"2020-10-13 21:41:49\"),\n",
    "    (\"003\", \"Allen\", \"001\", \"22\", \"M\", \"50000\", \"2020-10-13 21:41:49\"),\n",
    "    (\"004\", \"Tom\", \"002\", \"47\", \"M\", \"47000\", \"2020-10-13 21:41:49\"),\n",
    "    (\"005\", \"Jack\", \"003\", \"36\", \"M\", \"52000\", \"2020-10-13 21:41:49\"),\n",
    "    (\"006\", \"Abby\", \"002\", \"24\", \"F\", \"45000\", \"2020-10-13 21:41:49\"),\n",
    "    (\"007\", \"Trump\", \"001\", \"80\", \"M\", \"80000\", \"2020-10-13 21:41:49\"),\n",
    "    (\"008\", \"Marry\", \"003\", \"29\", \"F\", \"87000\", \"2020-10-13 21:41:49\"),\n",
    "]\n",
    "\n",
    "cursor.executemany(sql_insert, values)"
   ]
  },
  {
   "cell_type": "code",
   "execution_count": 24,
   "metadata": {},
   "outputs": [],
   "source": [
    "conn.commit()"
   ]
  },
  {
   "cell_type": "code",
   "execution_count": null,
   "metadata": {},
   "outputs": [],
   "source": []
  }
 ],
 "metadata": {
  "kernelspec": {
   "display_name": "Python 3",
   "language": "python",
   "name": "python3"
  },
  "language_info": {
   "codemirror_mode": {
    "name": "ipython",
    "version": 3
   },
   "file_extension": ".py",
   "mimetype": "text/x-python",
   "name": "python",
   "nbconvert_exporter": "python",
   "pygments_lexer": "ipython3",
   "version": "3.12.7"
  }
 },
 "nbformat": 4,
 "nbformat_minor": 2
}
